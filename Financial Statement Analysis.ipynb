{
 "cells": [
  {
   "cell_type": "code",
   "execution_count": 1,
   "metadata": {},
   "outputs": [],
   "source": [
    "#Data \n",
    "revenue = [14574.49, 7606.46, 8611.41, 9175.41, 8058.65, 8105.44, 11496.28, 9766.09, 10305.32, 14379.96, 10713.97, 15433.50]\n",
    "expenses = [12051.82, 5695.07, 12319.20, 12089.72, 8658.57, 840.20, 3285.73, 5821.12, 6976.93, 16618.61, 10054.37, 3803.96]"
   ]
  },
  {
   "cell_type": "code",
   "execution_count": 4,
   "metadata": {},
   "outputs": [
    {
     "name": "stdout",
     "output_type": "stream",
     "text": [
      "Profit for each month: \n",
      "\n",
      "[2522.67, 1911.3900000000003, -3707.790000000001, -2914.3099999999995, -599.9200000000001, 7265.24, 8210.550000000001, 3944.9700000000003, 3328.3899999999994, -2238.6500000000015, 659.5999999999985, 11629.54]\n",
      "\n",
      "\n"
     ]
    }
   ],
   "source": [
    "profit = []\n",
    "for i in range(12):\n",
    "    value = float(revenue[i]) - float(expenses[i])\n",
    "    profit.append(value)\n",
    "print(\"Profit for each month: \\n\")\n",
    "print(profit)\n",
    "print(\"\\n\")"
   ]
  },
  {
   "cell_type": "code",
   "execution_count": 5,
   "metadata": {},
   "outputs": [
    {
     "name": "stdout",
     "output_type": "stream",
     "text": [
      "Profit after tax for each month: \n",
      "\n",
      "[1765.8700000000001, 1337.9700000000003, -2595.4500000000007, -2040.0199999999995, -419.94000000000005, 5085.67, 5747.380000000001, 2761.4800000000005, 2329.8699999999994, -1567.0500000000015, 461.71999999999855, 8140.68]\n",
      "\n",
      "\n"
     ]
    }
   ],
   "source": [
    "profit_after_tax = []\n",
    "for i in range(12):\n",
    "    tax_calc = profit[i] * 0.3\n",
    "    tax_calc = round(tax_calc, 2)\n",
    "    value = float(profit[i]) - float(tax_calc)\n",
    "    profit_after_tax.append(value)\n",
    "print(\"Profit after tax for each month: \\n\")\n",
    "print(profit_after_tax)\n",
    "print(\"\\n\")"
   ]
  },
  {
   "cell_type": "code",
   "execution_count": 7,
   "metadata": {},
   "outputs": [
    {
     "name": "stdout",
     "output_type": "stream",
     "text": [
      "Profit margin for each month: \n",
      "\n",
      "[12.12, 17.59, -30.14, -22.23, -5.21, 62.74, 49.99, 28.28, 22.61, -10.9, 4.31, 52.75]\n",
      "\n",
      "\n"
     ]
    }
   ],
   "source": [
    "profit_margin_per_month = []\n",
    "for i in range(12):\n",
    "    value = (profit_after_tax[i] / revenue[i]) * 100\n",
    "    value = round(value, 2)\n",
    "    profit_margin_per_month.append(value)\n",
    "print(\"Profit margin for each month: \\n\")\n",
    "print(profit_margin_per_month)\n",
    "print(\"\\n\")"
   ]
  },
  {
   "cell_type": "code",
   "execution_count": 8,
   "metadata": {},
   "outputs": [
    {
     "name": "stdout",
     "output_type": "stream",
     "text": [
      "Mean of the profit after tax: \n",
      "\n",
      "1750.6816666666666\n",
      "\n",
      "\n"
     ]
    }
   ],
   "source": [
    "print(\"Mean of the profit after tax: \\n\")\n",
    "mean = sum(profit_after_tax) / len(profit_after_tax)\n",
    "print(mean)\n",
    "print(\"\\n\")"
   ]
  },
  {
   "cell_type": "code",
   "execution_count": 9,
   "metadata": {},
   "outputs": [
    {
     "name": "stdout",
     "output_type": "stream",
     "text": [
      "Good months: \n",
      "\n",
      "[True, False, False, False, False, True, True, True, True, False, False, True]\n",
      "\n",
      "\n"
     ]
    }
   ],
   "source": [
    "good_months = []\n",
    "for i in range(12):\n",
    "    value = (profit_after_tax[i] > mean)\n",
    "    good_months.append(value)\n",
    "print(\"Good months: \\n\")\n",
    "print(good_months)\n",
    "print(\"\\n\")"
   ]
  },
  {
   "cell_type": "code",
   "execution_count": 10,
   "metadata": {},
   "outputs": [
    {
     "name": "stdout",
     "output_type": "stream",
     "text": [
      "Bad months: \n",
      "\n",
      "[False, True, True, True, True, False, False, False, False, True, True, False]\n",
      "\n",
      "\n"
     ]
    }
   ],
   "source": [
    "bad_months = []\n",
    "for i in range(12):\n",
    "    value = (profit_after_tax[i] < mean)\n",
    "    bad_months.append(value)\n",
    "print(\"Bad months: \\n\")\n",
    "print(bad_months)\n",
    "print(\"\\n\")"
   ]
  },
  {
   "cell_type": "code",
   "execution_count": 11,
   "metadata": {},
   "outputs": [
    {
     "name": "stdout",
     "output_type": "stream",
     "text": [
      "Best month: \n",
      "\n",
      "[False, False, False, False, False, False, False, False, False, False, False, True]\n",
      "\n",
      "\n"
     ]
    }
   ],
   "source": [
    "best_month = []\n",
    "for i in range(12):\n",
    "    best_month.append(profit_after_tax[i] == max(profit_after_tax))\n",
    "print(\"Best month: \\n\")\n",
    "print(best_month)\n",
    "print(\"\\n\") "
   ]
  },
  {
   "cell_type": "code",
   "execution_count": 12,
   "metadata": {},
   "outputs": [
    {
     "name": "stdout",
     "output_type": "stream",
     "text": [
      "Worst month: \n",
      "\n",
      "[False, False, True, False, False, False, False, False, False, False, False, False]\n",
      "\n",
      "\n"
     ]
    }
   ],
   "source": [
    "worst_month = []\n",
    "for i in range(12):\n",
    "    worst_month.append(profit_after_tax[i] == min(profit_after_tax))\n",
    "print(\"Worst month: \\n\")\n",
    "print(worst_month)\n",
    "print(\"\\n\") "
   ]
  },
  {
   "cell_type": "code",
   "execution_count": null,
   "metadata": {},
   "outputs": [],
   "source": []
  }
 ],
 "metadata": {
  "kernelspec": {
   "display_name": "Python 3",
   "language": "python",
   "name": "python3"
  },
  "language_info": {
   "codemirror_mode": {
    "name": "ipython",
    "version": 3
   },
   "file_extension": ".py",
   "mimetype": "text/x-python",
   "name": "python",
   "nbconvert_exporter": "python",
   "pygments_lexer": "ipython3",
   "version": "3.8.8"
  }
 },
 "nbformat": 4,
 "nbformat_minor": 1
}
